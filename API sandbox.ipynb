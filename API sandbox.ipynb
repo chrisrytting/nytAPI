{
 "cells": [
  {
   "cell_type": "code",
   "execution_count": 3,
   "metadata": {},
   "outputs": [],
   "source": [
    "import requests"
   ]
  },
  {
   "cell_type": "code",
   "execution_count": 7,
   "metadata": {},
   "outputs": [],
   "source": [
    "# API_KEY = 'v2wsp3yB5OWqhGf99uzEpFaGwddFnyCh'\n",
    "API_SIGNUP_URL = 'https://developer.nytimes.com/get-started'\n",
    "\n",
    "class ArchiveAPI():\n",
    "    def __init__(self, key):\n",
    "        if key is None:\n",
    "            raise Exception('Must provide an API key. \\\n",
    "            If you don\\'t have one, go to {} to sign up for one'\\\n",
    "                            .format(API_SIGNUP_URL))\n",
    "        else:\n",
    "            self.key = key\n",
    "            \n",
    "    def fetch_articles(self, month, year):\n",
    "        \"\"\"\n",
    "        month: integer 1-12\n",
    "        year : integer 1851-2019\n",
    "        \n",
    "        returns a request object\n",
    "        \"\"\"\n",
    "        \n",
    "        resp = requests.get('https://api.nytimes.com/svc/archive/v1/2019/1.json?api-key={}'.format(self.key))\n",
    "        if resp.status_code != 200:\n",
    "            print(\"Error:\")\n",
    "            if resp.status_code == 401:\n",
    "                raise Exception('Unauthorized request, check\\\n",
    "                api-key is set.')\n",
    "            if resp.status_code == 429:\n",
    "                raise Exception('Too many requests. You reached \\\n",
    "                your per minute or per day rate limit.')\n",
    "        \n",
    "                            \n",
    "        \n",
    "        \n",
    "\n"
   ]
  },
  {
   "cell_type": "code",
   "execution_count": 27,
   "metadata": {},
   "outputs": [
    {
     "name": "stdout",
     "output_type": "stream",
     "text": [
      "Key: Date \t Value: Tue, 12 Mar 2019 01:58:35 GMT\n",
      "Key: Content-Type \t Value: application/json\n",
      "Key: Transfer-Encoding \t Value: chunked\n",
      "Key: Connection \t Value: keep-alive\n",
      "Key: x-amz-id-2 \t Value: 2j3QodVkDXkmBpGUFMohT5dQvTbrXcgG2xZ8xvtcnlpPFAFJ9fy48jEjafcCiqtECV+f1S4+JyU=\n",
      "Key: x-amz-request-id \t Value: C2A1BA7594C2CAF8\n",
      "Key: Last-Modified \t Value: Fri, 01 Feb 2019 08:17:58 GMT\n",
      "Key: ETag \t Value: \"7bbb2d1fed485df18a6e24b0e3fe5b81\"\n",
      "Key: Cache-Control \t Value: max-age=43200\n",
      "Key: Expires \t Value: Fri, 01 Feb 2019 20:17:57 GMT\n",
      "Key: Server \t Value: AmazonS3\n",
      "Key: Content-Encoding \t Value: gzip\n",
      "Key: Accept-Ranges \t Value: bytes\n",
      "Key: Via \t Value: 1.1 varnish\n",
      "Key: Age \t Value: 7131\n",
      "Key: X-Served-By \t Value: cache-bwi5051-BWI\n",
      "Key: X-Cache \t Value: HIT\n",
      "Key: X-Cache-Hits \t Value: 1\n",
      "Key: X-Timer \t Value: S1552355916.605032,VS0,VE107\n",
      "Key: Vary \t Value: Origin, Access-Control-Request-Headers, Access-Control-Request-Method, Accept-Encoding\n",
      "Key: Access-Control-Allow-Origin \t Value: *\n",
      "Key: Access-Control-Allow-Methods \t Value: GET\n",
      "Key: Access-Control-Allow-Headers \t Value: *\n",
      "Key: Access-Control-Allow-Credentials \t Value: false\n",
      "Key: Access-Control-Max-Age \t Value: 86400\n"
     ]
    }
   ],
   "source": [
    "for key, value in resp.headers.items():\n",
    "    print ('Key: {} \\t Value: {}'.format(key, value))"
   ]
  },
  {
   "cell_type": "code",
   "execution_count": 32,
   "metadata": {},
   "outputs": [
    {
     "data": {
      "text/plain": [
       "dict"
      ]
     },
     "execution_count": 32,
     "metadata": {},
     "output_type": "execute_result"
    }
   ],
   "source": [
    "type(resp.json())"
   ]
  },
  {
   "cell_type": "code",
   "execution_count": 40,
   "metadata": {},
   "outputs": [
    {
     "data": {
      "text/plain": [
       "dict_keys(['meta', 'docs'])"
      ]
     },
     "execution_count": 40,
     "metadata": {},
     "output_type": "execute_result"
    }
   ],
   "source": [
    "resp.json()['response'].keys()"
   ]
  },
  {
   "cell_type": "code",
   "execution_count": 45,
   "metadata": {},
   "outputs": [
    {
     "data": {
      "text/plain": [
       "6977"
      ]
     },
     "execution_count": 45,
     "metadata": {},
     "output_type": "execute_result"
    }
   ],
   "source": [
    "len(resp.json()['response']['docs'])"
   ]
  },
  {
   "cell_type": "code",
   "execution_count": 49,
   "metadata": {},
   "outputs": [
    {
     "data": {
      "text/plain": [
       "'https://www.nytimes.com/2019/01/02/obituaries/daryl-dragon-dead.html'"
      ]
     },
     "execution_count": 49,
     "metadata": {},
     "output_type": "execute_result"
    }
   ],
   "source": [
    "resp.json()['response']['docs'][0]['web_url']"
   ]
  },
  {
   "cell_type": "code",
   "execution_count": null,
   "metadata": {},
   "outputs": [],
   "source": []
  }
 ],
 "metadata": {
  "kernelspec": {
   "display_name": "Python 3",
   "language": "python",
   "name": "python3"
  },
  "language_info": {
   "codemirror_mode": {
    "name": "ipython",
    "version": 3
   },
   "file_extension": ".py",
   "mimetype": "text/x-python",
   "name": "python",
   "nbconvert_exporter": "python",
   "pygments_lexer": "ipython3",
   "version": "3.7.0"
  }
 },
 "nbformat": 4,
 "nbformat_minor": 2
}
